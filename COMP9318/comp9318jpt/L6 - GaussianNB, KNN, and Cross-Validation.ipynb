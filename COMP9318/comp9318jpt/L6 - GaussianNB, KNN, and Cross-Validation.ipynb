{
 "cells": [
  {
   "cell_type": "markdown",
   "metadata": {},
   "source": [
    "# Predict the Sun Hours using Naive Bayes Classifier and KNN Classifier"
   ]
  },
  {
   "cell_type": "markdown",
   "metadata": {},
   "source": [
    "## import modules"
   ]
  },
  {
   "cell_type": "code",
   "execution_count": 1,
   "metadata": {
    "collapsed": true
   },
   "outputs": [],
   "source": [
    "import pandas as pd\n",
    "import numpy as np\n",
    "from sklearn.naive_bayes import GaussianNB\n",
    "from sklearn.neighbors import KNeighborsClassifier\n",
    "from sklearn.cross_validation import KFold\n",
    "from sklearn import preprocessing\n",
    "import matplotlib.pyplot as plt\n",
    "\n",
    "%matplotlib inline"
   ]
  },
  {
   "cell_type": "markdown",
   "metadata": {},
   "source": [
    "## Data Preprocessing"
   ]
  },
  {
   "cell_type": "markdown",
   "metadata": {},
   "source": [
    "We use the same data resource as in L5, i.e., [Daily Weather Observations of Sydney, New South Wales between Aug 2015 and Aug 2016](http://www.bom.gov.au/climate/dwo/IDCJDW0210.shtml).\n",
    "\n",
    "We will handle the missing values, and category Sun_hours into three levels: High(>10), Med(>5 and <=10), and Low(<=5) as we did in L5."
   ]
  },
  {
   "cell_type": "markdown",
   "metadata": {},
   "source": [
    "### Column Meanings\n",
    "| Heading         | Meaning                                                  | Units               |\n",
    "|-----------------|----------------------------------------------------------|---------------------|\n",
    "| Day             | Day of the week                                          | first two letters   |\n",
    "| Temps_min       | Minimum temperature in the 24 hours to 9am.              | degrees Celsius     |\n",
    "| Temps_max       | Maximum temperature in the 24 hours from 9am.            | degrees Celsius     |\n",
    "| Rain            | Precipitation (rainfall) in the 24 hours to 9am.         | millimetres         |\n",
    "| Evap            | Class A pan evaporation in the 24 hours to 9am           | millimetres         |\n",
    "| Sun_hours       | Bright sunshine in the 24 hours to midnight              | hours               |\n",
    "| Max_wind_dir    | Direction of strongest gust in the 24 hours to midnight  | 16 compass points   |\n",
    "| Max_wind_spd    | Speed of strongest wind gust in the 24 hours to midnight | kilometres per hour |\n",
    "| Max_wind_time   | Time of strongest wind gust                              | local time hh:mm    |\n",
    "| Temp_at_9am     | Temperature at 9 am                                      | degrees Celsius     |\n",
    "| RH_at_9am       | Relative humidity at 9 am                                | percent             |\n",
    "| CLD_at_9am      | Fraction of sky obscured by cloud at 9 am                | eighths             |\n",
    "| Wind_dir_at_9am | Wind direction averaged over 10 minutes prior to 9 am    | compass points      |\n",
    "| Wind_spd_at_9am | Wind speed averaged over 10 minutes prior to 9 am        | kilometres per hour |\n",
    "| MSLP_at_9am     | Atmospheric pressure reduced to mean sea level at 9 am   | hectopascals        |\n",
    "| Temp_at_3pm     | Temperature at 3 pm                                      | degrees Celsius     |\n",
    "| RH_at_3pm       | Relative humidity at 3 pm                                | percent             |\n",
    "| CLD_at_3pm      | Fraction of sky obscured by cloud at 3 pm                | eighths             |\n",
    "| Wind_dir_at_3pm | Wind direction averaged over 10 minutes prior to 3 pm    | compass points      |\n",
    "| Wind_spd_at_3pm | Wind speed averaged over 10 minutes prior to 3 pm        | kilometres per hour |\n",
    "| MSLP_at_3pm     | Atmospheric pressure reduced to mean sea level at 3 pm   | hectopascals        |"
   ]
  },
  {
   "cell_type": "code",
   "execution_count": 2,
   "metadata": {
    "collapsed": false
   },
   "outputs": [
    {
     "name": "stdout",
     "output_type": "stream",
     "text": [
      "(362, 26)\n"
     ]
    }
   ],
   "source": [
    "data = pd.read_csv('./asset/Daily_Weather_Observations.csv', sep=',')\n",
    "data_missing_sun_hours = data[pd.isnull(data['Sun_hours'])]\n",
    "data = data[pd.notnull(data['Sun_hours'])]\n",
    "\n",
    "labels = ['Low','Med','High']\n",
    "data['Sun_level'] = pd.cut(data.Sun_hours, [-1,5,10,25], labels=labels)\n",
    "\n",
    "data = data.dropna(subset = ['CLD_at_9am', 'Max_wind_dir', 'Max_wind_spd', 'Max_wind_dir'])\n",
    "bitmap1 = data.Evap.notnull()\n",
    "bitmap2 = bitmap1.shift(1)\n",
    "bitmap2[0] = True\n",
    "data = data[bitmap1 & bitmap2]\n",
    "\n",
    "data['Temps_diff'] = data['Temps_max'] - data['Temps_min']\n",
    "\n",
    "print(data.shape)"
   ]
  },
  {
   "cell_type": "markdown",
   "metadata": {},
   "source": [
    "We use *CLD_at_9am*, *CLD_at_3pm*, *RH_at_9am*, *RH_at_3pm*, and *Temps_diff* as features."
   ]
  },
  {
   "cell_type": "code",
   "execution_count": 3,
   "metadata": {
    "collapsed": true
   },
   "outputs": [],
   "source": [
    "feature_list = ['CLD_at_9am', 'CLD_at_3pm', 'RH_at_9am', 'RH_at_3pm', 'Temps_diff']"
   ]
  },
  {
   "cell_type": "markdown",
   "metadata": {},
   "source": [
    "We generate X and y based on the selected features and labels"
   ]
  },
  {
   "cell_type": "code",
   "execution_count": 4,
   "metadata": {
    "collapsed": false
   },
   "outputs": [
    {
     "data": {
      "text/html": [
       "<div>\n",
       "<table border=\"1\" class=\"dataframe\">\n",
       "  <thead>\n",
       "    <tr style=\"text-align: right;\">\n",
       "      <th></th>\n",
       "      <th>CLD_at_9am</th>\n",
       "      <th>CLD_at_3pm</th>\n",
       "      <th>RH_at_9am</th>\n",
       "      <th>RH_at_3pm</th>\n",
       "      <th>Temps_diff</th>\n",
       "    </tr>\n",
       "  </thead>\n",
       "  <tbody>\n",
       "    <tr>\n",
       "      <th>391</th>\n",
       "      <td>7.0</td>\n",
       "      <td>7</td>\n",
       "      <td>57</td>\n",
       "      <td>50</td>\n",
       "      <td>10.0</td>\n",
       "    </tr>\n",
       "    <tr>\n",
       "      <th>392</th>\n",
       "      <td>1.0</td>\n",
       "      <td>1</td>\n",
       "      <td>57</td>\n",
       "      <td>45</td>\n",
       "      <td>12.5</td>\n",
       "    </tr>\n",
       "    <tr>\n",
       "      <th>393</th>\n",
       "      <td>1.0</td>\n",
       "      <td>2</td>\n",
       "      <td>50</td>\n",
       "      <td>36</td>\n",
       "      <td>12.1</td>\n",
       "    </tr>\n",
       "    <tr>\n",
       "      <th>394</th>\n",
       "      <td>7.0</td>\n",
       "      <td>7</td>\n",
       "      <td>57</td>\n",
       "      <td>38</td>\n",
       "      <td>11.2</td>\n",
       "    </tr>\n",
       "    <tr>\n",
       "      <th>395</th>\n",
       "      <td>7.0</td>\n",
       "      <td>6</td>\n",
       "      <td>71</td>\n",
       "      <td>62</td>\n",
       "      <td>9.2</td>\n",
       "    </tr>\n",
       "  </tbody>\n",
       "</table>\n",
       "</div>"
      ],
      "text/plain": [
       "     CLD_at_9am  CLD_at_3pm  RH_at_9am  RH_at_3pm  Temps_diff\n",
       "391         7.0           7         57         50        10.0\n",
       "392         1.0           1         57         45        12.5\n",
       "393         1.0           2         50         36        12.1\n",
       "394         7.0           7         57         38        11.2\n",
       "395         7.0           6         71         62         9.2"
      ]
     },
     "execution_count": 4,
     "metadata": {},
     "output_type": "execute_result"
    }
   ],
   "source": [
    "X = data[feature_list]\n",
    "X.tail()"
   ]
  },
  {
   "cell_type": "code",
   "execution_count": 5,
   "metadata": {
    "collapsed": false
   },
   "outputs": [
    {
     "data": {
      "text/plain": [
       "391     Med\n",
       "392    High\n",
       "393    High\n",
       "394     Med\n",
       "395     Low\n",
       "Name: Sun_level, dtype: category\n",
       "Categories (3, object): [Low < Med < High]"
      ]
     },
     "execution_count": 5,
     "metadata": {},
     "output_type": "execute_result"
    }
   ],
   "source": [
    "y = data.Sun_level\n",
    "y.tail()"
   ]
  },
  {
   "cell_type": "markdown",
   "metadata": {},
   "source": [
    "## (Gaussian) Naive Bayes Classifier"
   ]
  },
  {
   "cell_type": "code",
   "execution_count": 6,
   "metadata": {
    "collapsed": false
   },
   "outputs": [
    {
     "data": {
      "text/plain": [
       "0.73204419889502759"
      ]
     },
     "execution_count": 6,
     "metadata": {},
     "output_type": "execute_result"
    }
   ],
   "source": [
    "gnb = GaussianNB() # Note that there is no parameter allowed in GaussianNB()\n",
    "gnb.fit(X, y)\n",
    "gnb.score(X, y)"
   ]
  },
  {
   "cell_type": "markdown",
   "metadata": {},
   "source": [
    "You can get the probability estimates for the input vector X."
   ]
  },
  {
   "cell_type": "code",
   "execution_count": 7,
   "metadata": {
    "collapsed": false
   },
   "outputs": [
    {
     "data": {
      "text/plain": [
       "array([[  1.79281852e-02,   2.18950571e-03,   9.79882309e-01],\n",
       "       [  9.08261588e-02,   9.89759965e-04,   9.08184081e-01],\n",
       "       [  8.92937811e-01,   8.73826443e-13,   1.07062189e-01],\n",
       "       ..., \n",
       "       [  9.02419655e-01,   1.84466699e-11,   9.75803449e-02],\n",
       "       [  1.35234568e-03,   7.09322475e-02,   9.27715407e-01],\n",
       "       [  3.73481033e-04,   7.76129501e-01,   2.23497018e-01]])"
      ]
     },
     "execution_count": 7,
     "metadata": {},
     "output_type": "execute_result"
    }
   ],
   "source": [
    "gnb.predict_proba(X)"
   ]
  },
  {
   "cell_type": "markdown",
   "metadata": {},
   "source": [
    "## KNN Classifier"
   ]
  },
  {
   "cell_type": "markdown",
   "metadata": {},
   "source": [
    "Before classification, we need to normalize the data first."
   ]
  },
  {
   "cell_type": "code",
   "execution_count": 8,
   "metadata": {
    "collapsed": false
   },
   "outputs": [
    {
     "data": {
      "text/plain": [
       "(362, 5)"
      ]
     },
     "execution_count": 8,
     "metadata": {},
     "output_type": "execute_result"
    }
   ],
   "source": [
    "min_max_scaler = preprocessing.MinMaxScaler()\n",
    "X_scaled = min_max_scaler.fit_transform(X)\n",
    "X_scaled.shape"
   ]
  },
  {
   "cell_type": "markdown",
   "metadata": {},
   "source": [
    "The following parameters affects the performance (accuracy) of the classifier\n",
    " * *n_neighbors*: Number of neighbors to use\n",
    " * *weights*: weight function of the points. Possible values are:\n",
    "   * ‘uniform’ : uniform weights.\n",
    "   * ‘distance’ : weight points by the inverse of their distance.\n",
    "   * [callable] : a user-defined weight function.\n",
    " * *metric*: The distance metric to use. The default metric is minkowski.\n",
    " * *p*: Power parameter for the Minkowski metric (assume we use the default metric). Usual choices are:\n",
    "   * p = 2: Euclidean Distance\n",
    "   * p = 1: Manhattan Distance"
   ]
  },
  {
   "cell_type": "code",
   "execution_count": 9,
   "metadata": {
    "collapsed": false
   },
   "outputs": [
    {
     "data": {
      "text/plain": [
       "0.82320441988950277"
      ]
     },
     "execution_count": 9,
     "metadata": {},
     "output_type": "execute_result"
    }
   ],
   "source": [
    "neigh = KNeighborsClassifier(n_neighbors=3,weights='uniform',p=2)\n",
    "neigh.fit(X_scaled, y)\n",
    "neigh.score(X_scaled, y)"
   ]
  },
  {
   "cell_type": "markdown",
   "metadata": {},
   "source": [
    "## Cross Validation"
   ]
  },
  {
   "cell_type": "markdown",
   "metadata": {},
   "source": [
    "We use K-fold cross validation to get a reliable estimate of how well a model performs on unseen data (i.e., the generalization error). This helps to (1) determine which model works well, or (2) how to set the values for the hyper parameters for a model. We will see an example of the latter usage in finding the best $k$ for kNN classifiers.  "
   ]
  },
  {
   "cell_type": "code",
   "execution_count": 10,
   "metadata": {
    "collapsed": true
   },
   "outputs": [],
   "source": [
    "n_folds = 10\n",
    "kf = KFold(n=len(X), n_folds=n_folds, shuffle=True, random_state=42)"
   ]
  },
  {
   "cell_type": "code",
   "execution_count": 11,
   "metadata": {
    "collapsed": true
   },
   "outputs": [],
   "source": [
    "def test_Gaussian_NB(train_X, train_y, test_X, test_y, debug_flag = False):\n",
    "    gnb = GaussianNB()\n",
    "    gnb.fit(train_X, train_y)\n",
    "    train_error = gnb.score(train_X, train_y)\n",
    "    test_error = gnb.score(test_X, test_y)\n",
    "    if debug_flag:\n",
    "        print('=============')\n",
    "        print('training error:\\t{}'.format(train_error))\n",
    "        print('testing error:\\t{}'.format(test_error))\n",
    "    return train_error, test_error\n",
    "\n",
    "def test_KNN(train_X, train_y, test_X, test_y, n_neighbors=3, weights='uniform', p=2, debug_flag = False):\n",
    "    neigh = KNeighborsClassifier(n_neighbors=n_neighbors, weights=weights, p=p)\n",
    "    neigh.fit(train_X, train_y)\n",
    "    train_error = neigh.score(train_X, train_y)\n",
    "    test_error = neigh.score(test_X, test_y)\n",
    "    if debug_flag:\n",
    "        print('=============')\n",
    "        print('training error:\\t{}'.format(train_error))\n",
    "        print('testing error:\\t{}'.format(test_error))\n",
    "    return train_error, test_error"
   ]
  },
  {
   "cell_type": "markdown",
   "metadata": {},
   "source": [
    "### CV on Naive Bayes Classifier"
   ]
  },
  {
   "cell_type": "code",
   "execution_count": 12,
   "metadata": {
    "collapsed": false,
    "scrolled": false
   },
   "outputs": [
    {
     "name": "stdout",
     "output_type": "stream",
     "text": [
      "===================\n",
      "avg. training error (Gaussian NB):\t0.73756866446437\n",
      "avg. testing error (Gaussian NB):\t0.7318318318318319\n"
     ]
    }
   ],
   "source": [
    "train_error_total = 0\n",
    "test_error_total = 0\n",
    "for train, test in kf:\n",
    "    train_X = X.iloc[train]\n",
    "    test_X = X.iloc[test]\n",
    "    train_y = y.iloc[train]\n",
    "    test_y = y.iloc[test]\n",
    "    train_error, test_error = test_Gaussian_NB(train_X, train_y, test_X, test_y)\n",
    "    train_error_total += train_error\n",
    "    test_error_total += test_error\n",
    "\n",
    "print('===================')\n",
    "print('avg. training error (Gaussian NB):\\t{}'.format(train_error_total/n_folds))\n",
    "print('avg. testing error (Gaussian NB):\\t{}'.format(test_error_total/n_folds))"
   ]
  },
  {
   "cell_type": "markdown",
   "metadata": {},
   "source": [
    "### CV on KNN Classifier"
   ]
  },
  {
   "cell_type": "code",
   "execution_count": 13,
   "metadata": {
    "collapsed": true
   },
   "outputs": [],
   "source": [
    "def cv(n_neighbors=3,weights='uniform',p=2):\n",
    "    train_error_total = 0\n",
    "    test_error_total = 0\n",
    "    for train, test in kf:\n",
    "        train_X = X_scaled[train]\n",
    "        test_X = X_scaled[test]\n",
    "        train_y = y.iloc[train]\n",
    "        test_y = y.iloc[test]\n",
    "        train_error, test_error = test_KNN(train_X, train_y, test_X, test_y, n_neighbors, weights, p)\n",
    "        train_error_total += train_error\n",
    "        test_error_total += test_error\n",
    "    return train_error_total/n_folds, test_error_total/n_folds\n",
    "#     print('===================')\n",
    "#     print('avg. training error (kNN):\\t{}'.format(train_error_total/n_folds))\n",
    "#     print('avg. testing error (kNN):\\t{}'.format(test_error_total/n_folds))\n",
    "#     print()"
   ]
  },
  {
   "cell_type": "code",
   "execution_count": 14,
   "metadata": {
    "collapsed": false
   },
   "outputs": [],
   "source": [
    "def cv_plot(weights='uniform',p=2):\n",
    "    cv_res = []\n",
    "    for i in range(1,50):\n",
    "        train_error, test_error = cv(i, weights, p)\n",
    "        cv_res.append([i, train_error, test_error])\n",
    "    cv_res_arr = np.array(cv_res)\n",
    "    plt.figure(figsize=(16,9)) \n",
    "    plt.title('Errors vs k for kNN classifiers')\n",
    "    plot_train, = plt.plot(cv_res_arr[:,0], cv_res_arr[:,1], label='training')\n",
    "    plot_test, = plt.plot(cv_res_arr[:,0], cv_res_arr[:,2], label='testing')\n",
    "    plt.legend(handles=[plot_train, plot_test])\n",
    "    plt.ylim((min(min(cv_res_arr[:,1]), min(cv_res_arr[:,2])) - 0.05, max(max(cv_res_arr[:,1]), max(cv_res_arr[:,2]))+0.05))"
   ]
  },
  {
   "cell_type": "code",
   "execution_count": 15,
   "metadata": {
    "collapsed": false
   },
   "outputs": [
    {
     "data": {
      "image/png": "[encoded data removed]",
      "text/plain": [
       "<matplotlib.figure.Figure at 0x2752c6a8c50>"
      ]
     },
     "metadata": {},
     "output_type": "display_data"
    }
   ],
   "source": [
    "cv_plot('uniform',2)"
   ]
  },
  {
   "cell_type": "code",
   "execution_count": 16,
   "metadata": {
    "collapsed": false
   },
   "outputs": [
    {
     "data": {
      "image/png": "[encoded data removed]",
      "text/plain": [
       "<matplotlib.figure.Figure at 0x2752f1e3c18>"
      ]
     },
     "metadata": {},
     "output_type": "display_data"
    }
   ],
   "source": [
    "cv_plot('uniform',1)"
   ]
  },
  {
   "cell_type": "code",
   "execution_count": 17,
   "metadata": {
    "collapsed": false
   },
   "outputs": [
    {
     "data": {
      "image/png": "[encoded data removed]",
      "text/plain": [
       "<matplotlib.figure.Figure at 0x2752f82db70>"
      ]
     },
     "metadata": {},
     "output_type": "display_data"
    }
   ],
   "source": [
    "cv_plot('distance',2)"
   ]
  },
  {
   "cell_type": "code",
   "execution_count": 18,
   "metadata": {
    "collapsed": false
   },
   "outputs": [
    {
     "data": {
      "image/png": "[encoded data removed]",
      "text/plain": [
       "<matplotlib.figure.Figure at 0x2752f83c5f8>"
      ]
     },
     "metadata": {},
     "output_type": "display_data"
    }
   ],
   "source": [
    "cv_plot('distance',1)"
   ]
  },
  {
   "cell_type": "markdown",
   "metadata": {},
   "source": [
    "According to the above results, we decide to use *k=27* and *uniform* weight with *p=1*. Then we use these parameters to train a classifier over all the data (i.e., X_scaled)"
   ]
  },
  {
   "cell_type": "code",
   "execution_count": 19,
   "metadata": {
    "collapsed": false
   },
   "outputs": [
    {
     "data": {
      "text/plain": [
       "0.72928176795580113"
      ]
     },
     "execution_count": 19,
     "metadata": {},
     "output_type": "execute_result"
    }
   ],
   "source": [
    "neigh = KNeighborsClassifier(n_neighbors=27,weights='uniform',p=1)\n",
    "neigh.fit(X_scaled, y)\n",
    "neigh.score(X_scaled, y)"
   ]
  },
  {
   "cell_type": "markdown",
   "metadata": {},
   "source": [
    "We also need to normalize data, but be aware that we need to make sure that testing data and training data are normalized in the same way (e.g., use ```min_max_scaler.transform()```)"
   ]
  },
  {
   "cell_type": "code",
   "execution_count": 20,
   "metadata": {
    "collapsed": false
   },
   "outputs": [
    {
     "data": {
      "text/html": [
       "<div>\n",
       "<table border=\"1\" class=\"dataframe\">\n",
       "  <thead>\n",
       "    <tr style=\"text-align: right;\">\n",
       "      <th></th>\n",
       "      <th>CLD_at_9am</th>\n",
       "      <th>CLD_at_3pm</th>\n",
       "      <th>RH_at_9am</th>\n",
       "      <th>RH_at_3pm</th>\n",
       "      <th>Temps_diff</th>\n",
       "    </tr>\n",
       "  </thead>\n",
       "  <tbody>\n",
       "    <tr>\n",
       "      <th>116</th>\n",
       "      <td>1.0</td>\n",
       "      <td>0</td>\n",
       "      <td>62</td>\n",
       "      <td>44</td>\n",
       "      <td>15.4</td>\n",
       "    </tr>\n",
       "    <tr>\n",
       "      <th>126</th>\n",
       "      <td>1.0</td>\n",
       "      <td>1</td>\n",
       "      <td>56</td>\n",
       "      <td>52</td>\n",
       "      <td>9.4</td>\n",
       "    </tr>\n",
       "    <tr>\n",
       "      <th>141</th>\n",
       "      <td>1.0</td>\n",
       "      <td>1</td>\n",
       "      <td>61</td>\n",
       "      <td>52</td>\n",
       "      <td>10.4</td>\n",
       "    </tr>\n",
       "    <tr>\n",
       "      <th>166</th>\n",
       "      <td>1.0</td>\n",
       "      <td>7</td>\n",
       "      <td>50</td>\n",
       "      <td>43</td>\n",
       "      <td>16.5</td>\n",
       "    </tr>\n",
       "    <tr>\n",
       "      <th>334</th>\n",
       "      <td>1.0</td>\n",
       "      <td>7</td>\n",
       "      <td>78</td>\n",
       "      <td>33</td>\n",
       "      <td>11.1</td>\n",
       "    </tr>\n",
       "    <tr>\n",
       "      <th>335</th>\n",
       "      <td>7.0</td>\n",
       "      <td>1</td>\n",
       "      <td>58</td>\n",
       "      <td>33</td>\n",
       "      <td>9.0</td>\n",
       "    </tr>\n",
       "    <tr>\n",
       "      <th>369</th>\n",
       "      <td>6.0</td>\n",
       "      <td>7</td>\n",
       "      <td>90</td>\n",
       "      <td>60</td>\n",
       "      <td>7.3</td>\n",
       "    </tr>\n",
       "  </tbody>\n",
       "</table>\n",
       "</div>"
      ],
      "text/plain": [
       "     CLD_at_9am  CLD_at_3pm  RH_at_9am  RH_at_3pm  Temps_diff\n",
       "116         1.0           0         62         44        15.4\n",
       "126         1.0           1         56         52         9.4\n",
       "141         1.0           1         61         52        10.4\n",
       "166         1.0           7         50         43        16.5\n",
       "334         1.0           7         78         33        11.1\n",
       "335         7.0           1         58         33         9.0\n",
       "369         6.0           7         90         60         7.3"
      ]
     },
     "execution_count": 20,
     "metadata": {},
     "output_type": "execute_result"
    }
   ],
   "source": [
    "data_missing_sun_hours['Temps_diff'] = data_missing_sun_hours['Temps_max'] - data_missing_sun_hours['Temps_min']\n",
    "test_data = data_missing_sun_hours[feature_list]\n",
    "test_data_scaled = min_max_scaler.transform(test_data)\n",
    "test_data"
   ]
  },
  {
   "cell_type": "markdown",
   "metadata": {},
   "source": [
    "Now let's predict the sun_level using both KNN classifier and Naive Bayes classifier."
   ]
  },
  {
   "cell_type": "code",
   "execution_count": 21,
   "metadata": {
    "collapsed": false
   },
   "outputs": [
    {
     "data": {
      "text/html": [
       "<div>\n",
       "<table border=\"1\" class=\"dataframe\">\n",
       "  <thead>\n",
       "    <tr style=\"text-align: right;\">\n",
       "      <th></th>\n",
       "      <th>Year</th>\n",
       "      <th>Month</th>\n",
       "      <th>Date</th>\n",
       "      <th>Day</th>\n",
       "      <th>Temps_min</th>\n",
       "      <th>Temps_max</th>\n",
       "      <th>Rain</th>\n",
       "      <th>Evap</th>\n",
       "      <th>Sun_hours</th>\n",
       "      <th>Max_wind_dir</th>\n",
       "      <th>...</th>\n",
       "      <th>Wind_spd_at_9am</th>\n",
       "      <th>MSLP_at_9am</th>\n",
       "      <th>Temp_at_3pm</th>\n",
       "      <th>RH_at_3pm</th>\n",
       "      <th>CLD_at_3pm</th>\n",
       "      <th>Wind_dir_at_3pm</th>\n",
       "      <th>Wind_spd_at_3pm</th>\n",
       "      <th>MSLP_at_3pm</th>\n",
       "      <th>Temps_diff</th>\n",
       "      <th>Sun_level_pred_knn</th>\n",
       "    </tr>\n",
       "  </thead>\n",
       "  <tbody>\n",
       "    <tr>\n",
       "      <th>116</th>\n",
       "      <td>2015</td>\n",
       "      <td>11</td>\n",
       "      <td>25</td>\n",
       "      <td>We</td>\n",
       "      <td>17.3</td>\n",
       "      <td>32.7</td>\n",
       "      <td>0.0</td>\n",
       "      <td>9.0</td>\n",
       "      <td>NaN</td>\n",
       "      <td>NNE</td>\n",
       "      <td>...</td>\n",
       "      <td>9</td>\n",
       "      <td>1013.1</td>\n",
       "      <td>28.7</td>\n",
       "      <td>44</td>\n",
       "      <td>0</td>\n",
       "      <td>NNE</td>\n",
       "      <td>24</td>\n",
       "      <td>1007.4</td>\n",
       "      <td>15.4</td>\n",
       "      <td>High</td>\n",
       "    </tr>\n",
       "    <tr>\n",
       "      <th>126</th>\n",
       "      <td>2015</td>\n",
       "      <td>12</td>\n",
       "      <td>5</td>\n",
       "      <td>Sa</td>\n",
       "      <td>15.5</td>\n",
       "      <td>24.9</td>\n",
       "      <td>0.0</td>\n",
       "      <td>8.0</td>\n",
       "      <td>NaN</td>\n",
       "      <td>NE</td>\n",
       "      <td>...</td>\n",
       "      <td>7</td>\n",
       "      <td>1022.6</td>\n",
       "      <td>24.1</td>\n",
       "      <td>52</td>\n",
       "      <td>1</td>\n",
       "      <td>NE</td>\n",
       "      <td>20</td>\n",
       "      <td>1018.9</td>\n",
       "      <td>9.4</td>\n",
       "      <td>High</td>\n",
       "    </tr>\n",
       "    <tr>\n",
       "      <th>141</th>\n",
       "      <td>2015</td>\n",
       "      <td>12</td>\n",
       "      <td>20</td>\n",
       "      <td>Su</td>\n",
       "      <td>19.9</td>\n",
       "      <td>30.3</td>\n",
       "      <td>0.0</td>\n",
       "      <td>13.0</td>\n",
       "      <td>NaN</td>\n",
       "      <td>NE</td>\n",
       "      <td>...</td>\n",
       "      <td>11</td>\n",
       "      <td>1013.4</td>\n",
       "      <td>28.5</td>\n",
       "      <td>52</td>\n",
       "      <td>1</td>\n",
       "      <td>NNE</td>\n",
       "      <td>31</td>\n",
       "      <td>1008.7</td>\n",
       "      <td>10.4</td>\n",
       "      <td>High</td>\n",
       "    </tr>\n",
       "    <tr>\n",
       "      <th>166</th>\n",
       "      <td>2016</td>\n",
       "      <td>1</td>\n",
       "      <td>14</td>\n",
       "      <td>Th</td>\n",
       "      <td>22.7</td>\n",
       "      <td>39.2</td>\n",
       "      <td>0.0</td>\n",
       "      <td>8.4</td>\n",
       "      <td>NaN</td>\n",
       "      <td>S</td>\n",
       "      <td>...</td>\n",
       "      <td>6</td>\n",
       "      <td>1011.7</td>\n",
       "      <td>32.4</td>\n",
       "      <td>43</td>\n",
       "      <td>7</td>\n",
       "      <td>ENE</td>\n",
       "      <td>15</td>\n",
       "      <td>1008.1</td>\n",
       "      <td>16.5</td>\n",
       "      <td>Med</td>\n",
       "    </tr>\n",
       "    <tr>\n",
       "      <th>334</th>\n",
       "      <td>2016</td>\n",
       "      <td>6</td>\n",
       "      <td>30</td>\n",
       "      <td>Th</td>\n",
       "      <td>5.4</td>\n",
       "      <td>16.5</td>\n",
       "      <td>0.0</td>\n",
       "      <td>1.8</td>\n",
       "      <td>NaN</td>\n",
       "      <td>NW</td>\n",
       "      <td>...</td>\n",
       "      <td>11</td>\n",
       "      <td>1021.2</td>\n",
       "      <td>14.5</td>\n",
       "      <td>33</td>\n",
       "      <td>7</td>\n",
       "      <td>NNW</td>\n",
       "      <td>24</td>\n",
       "      <td>1015.1</td>\n",
       "      <td>11.1</td>\n",
       "      <td>Med</td>\n",
       "    </tr>\n",
       "    <tr>\n",
       "      <th>335</th>\n",
       "      <td>2016</td>\n",
       "      <td>7</td>\n",
       "      <td>1</td>\n",
       "      <td>Fr</td>\n",
       "      <td>7.7</td>\n",
       "      <td>16.7</td>\n",
       "      <td>0.0</td>\n",
       "      <td>4.0</td>\n",
       "      <td>NaN</td>\n",
       "      <td>NW</td>\n",
       "      <td>...</td>\n",
       "      <td>13</td>\n",
       "      <td>1015.7</td>\n",
       "      <td>16.4</td>\n",
       "      <td>33</td>\n",
       "      <td>1</td>\n",
       "      <td>WSW</td>\n",
       "      <td>20</td>\n",
       "      <td>1016.2</td>\n",
       "      <td>9.0</td>\n",
       "      <td>High</td>\n",
       "    </tr>\n",
       "    <tr>\n",
       "      <th>369</th>\n",
       "      <td>2016</td>\n",
       "      <td>8</td>\n",
       "      <td>4</td>\n",
       "      <td>Th</td>\n",
       "      <td>10.8</td>\n",
       "      <td>18.1</td>\n",
       "      <td>61.0</td>\n",
       "      <td>9.4</td>\n",
       "      <td>NaN</td>\n",
       "      <td>SE</td>\n",
       "      <td>...</td>\n",
       "      <td>15</td>\n",
       "      <td>1024.3</td>\n",
       "      <td>15.5</td>\n",
       "      <td>60</td>\n",
       "      <td>7</td>\n",
       "      <td>SSW</td>\n",
       "      <td>19</td>\n",
       "      <td>1025.1</td>\n",
       "      <td>7.3</td>\n",
       "      <td>Low</td>\n",
       "    </tr>\n",
       "  </tbody>\n",
       "</table>\n",
       "<p>7 rows × 26 columns</p>\n",
       "</div>"
      ],
      "text/plain": [
       "     Year  Month  Date Day  Temps_min  Temps_max  Rain  Evap  Sun_hours  \\\n",
       "116  2015     11    25  We       17.3       32.7   0.0   9.0        NaN   \n",
       "126  2015     12     5  Sa       15.5       24.9   0.0   8.0        NaN   \n",
       "141  2015     12    20  Su       19.9       30.3   0.0  13.0        NaN   \n",
       "166  2016      1    14  Th       22.7       39.2   0.0   8.4        NaN   \n",
       "334  2016      6    30  Th        5.4       16.5   0.0   1.8        NaN   \n",
       "335  2016      7     1  Fr        7.7       16.7   0.0   4.0        NaN   \n",
       "369  2016      8     4  Th       10.8       18.1  61.0   9.4        NaN   \n",
       "\n",
       "    Max_wind_dir         ...          Wind_spd_at_9am MSLP_at_9am  \\\n",
       "116          NNE         ...                        9      1013.1   \n",
       "126           NE         ...                        7      1022.6   \n",
       "141           NE         ...                       11      1013.4   \n",
       "166            S         ...                        6      1011.7   \n",
       "334           NW         ...                       11      1021.2   \n",
       "335           NW         ...                       13      1015.7   \n",
       "369           SE         ...                       15      1024.3   \n",
       "\n",
       "     Temp_at_3pm  RH_at_3pm  CLD_at_3pm Wind_dir_at_3pm  Wind_spd_at_3pm  \\\n",
       "116         28.7         44           0             NNE               24   \n",
       "126         24.1         52           1              NE               20   \n",
       "141         28.5         52           1             NNE               31   \n",
       "166         32.4         43           7             ENE               15   \n",
       "334         14.5         33           7             NNW               24   \n",
       "335         16.4         33           1             WSW               20   \n",
       "369         15.5         60           7             SSW               19   \n",
       "\n",
       "     MSLP_at_3pm  Temps_diff  Sun_level_pred_knn  \n",
       "116       1007.4        15.4                High  \n",
       "126       1018.9         9.4                High  \n",
       "141       1008.7        10.4                High  \n",
       "166       1008.1        16.5                 Med  \n",
       "334       1015.1        11.1                 Med  \n",
       "335       1016.2         9.0                High  \n",
       "369       1025.1         7.3                 Low  \n",
       "\n",
       "[7 rows x 26 columns]"
      ]
     },
     "execution_count": 21,
     "metadata": {},
     "output_type": "execute_result"
    }
   ],
   "source": [
    "data_missing_sun_hours['Sun_level_pred_knn'] = neigh.predict(test_data_scaled)\n",
    "data_missing_sun_hours"
   ]
  },
  {
   "cell_type": "code",
   "execution_count": 22,
   "metadata": {
    "collapsed": false,
    "scrolled": true
   },
   "outputs": [
    {
     "data": {
      "text/html": [
       "<div>\n",
       "<table border=\"1\" class=\"dataframe\">\n",
       "  <thead>\n",
       "    <tr style=\"text-align: right;\">\n",
       "      <th></th>\n",
       "      <th>Year</th>\n",
       "      <th>Month</th>\n",
       "      <th>Date</th>\n",
       "      <th>Day</th>\n",
       "      <th>Temps_min</th>\n",
       "      <th>Temps_max</th>\n",
       "      <th>Rain</th>\n",
       "      <th>Evap</th>\n",
       "      <th>Sun_hours</th>\n",
       "      <th>Max_wind_dir</th>\n",
       "      <th>...</th>\n",
       "      <th>MSLP_at_9am</th>\n",
       "      <th>Temp_at_3pm</th>\n",
       "      <th>RH_at_3pm</th>\n",
       "      <th>CLD_at_3pm</th>\n",
       "      <th>Wind_dir_at_3pm</th>\n",
       "      <th>Wind_spd_at_3pm</th>\n",
       "      <th>MSLP_at_3pm</th>\n",
       "      <th>Temps_diff</th>\n",
       "      <th>Sun_level_pred_knn</th>\n",
       "      <th>Sun_level_pred_nb</th>\n",
       "    </tr>\n",
       "  </thead>\n",
       "  <tbody>\n",
       "    <tr>\n",
       "      <th>116</th>\n",
       "      <td>2015</td>\n",
       "      <td>11</td>\n",
       "      <td>25</td>\n",
       "      <td>We</td>\n",
       "      <td>17.3</td>\n",
       "      <td>32.7</td>\n",
       "      <td>0.0</td>\n",
       "      <td>9.0</td>\n",
       "      <td>NaN</td>\n",
       "      <td>NNE</td>\n",
       "      <td>...</td>\n",
       "      <td>1013.1</td>\n",
       "      <td>28.7</td>\n",
       "      <td>44</td>\n",
       "      <td>0</td>\n",
       "      <td>NNE</td>\n",
       "      <td>24</td>\n",
       "      <td>1007.4</td>\n",
       "      <td>15.4</td>\n",
       "      <td>High</td>\n",
       "      <td>High</td>\n",
       "    </tr>\n",
       "    <tr>\n",
       "      <th>126</th>\n",
       "      <td>2015</td>\n",
       "      <td>12</td>\n",
       "      <td>5</td>\n",
       "      <td>Sa</td>\n",
       "      <td>15.5</td>\n",
       "      <td>24.9</td>\n",
       "      <td>0.0</td>\n",
       "      <td>8.0</td>\n",
       "      <td>NaN</td>\n",
       "      <td>NE</td>\n",
       "      <td>...</td>\n",
       "      <td>1022.6</td>\n",
       "      <td>24.1</td>\n",
       "      <td>52</td>\n",
       "      <td>1</td>\n",
       "      <td>NE</td>\n",
       "      <td>20</td>\n",
       "      <td>1018.9</td>\n",
       "      <td>9.4</td>\n",
       "      <td>High</td>\n",
       "      <td>High</td>\n",
       "    </tr>\n",
       "    <tr>\n",
       "      <th>141</th>\n",
       "      <td>2015</td>\n",
       "      <td>12</td>\n",
       "      <td>20</td>\n",
       "      <td>Su</td>\n",
       "      <td>19.9</td>\n",
       "      <td>30.3</td>\n",
       "      <td>0.0</td>\n",
       "      <td>13.0</td>\n",
       "      <td>NaN</td>\n",
       "      <td>NE</td>\n",
       "      <td>...</td>\n",
       "      <td>1013.4</td>\n",
       "      <td>28.5</td>\n",
       "      <td>52</td>\n",
       "      <td>1</td>\n",
       "      <td>NNE</td>\n",
       "      <td>31</td>\n",
       "      <td>1008.7</td>\n",
       "      <td>10.4</td>\n",
       "      <td>High</td>\n",
       "      <td>High</td>\n",
       "    </tr>\n",
       "    <tr>\n",
       "      <th>166</th>\n",
       "      <td>2016</td>\n",
       "      <td>1</td>\n",
       "      <td>14</td>\n",
       "      <td>Th</td>\n",
       "      <td>22.7</td>\n",
       "      <td>39.2</td>\n",
       "      <td>0.0</td>\n",
       "      <td>8.4</td>\n",
       "      <td>NaN</td>\n",
       "      <td>S</td>\n",
       "      <td>...</td>\n",
       "      <td>1011.7</td>\n",
       "      <td>32.4</td>\n",
       "      <td>43</td>\n",
       "      <td>7</td>\n",
       "      <td>ENE</td>\n",
       "      <td>15</td>\n",
       "      <td>1008.1</td>\n",
       "      <td>16.5</td>\n",
       "      <td>Med</td>\n",
       "      <td>Med</td>\n",
       "    </tr>\n",
       "    <tr>\n",
       "      <th>334</th>\n",
       "      <td>2016</td>\n",
       "      <td>6</td>\n",
       "      <td>30</td>\n",
       "      <td>Th</td>\n",
       "      <td>5.4</td>\n",
       "      <td>16.5</td>\n",
       "      <td>0.0</td>\n",
       "      <td>1.8</td>\n",
       "      <td>NaN</td>\n",
       "      <td>NW</td>\n",
       "      <td>...</td>\n",
       "      <td>1021.2</td>\n",
       "      <td>14.5</td>\n",
       "      <td>33</td>\n",
       "      <td>7</td>\n",
       "      <td>NNW</td>\n",
       "      <td>24</td>\n",
       "      <td>1015.1</td>\n",
       "      <td>11.1</td>\n",
       "      <td>Med</td>\n",
       "      <td>Med</td>\n",
       "    </tr>\n",
       "    <tr>\n",
       "      <th>335</th>\n",
       "      <td>2016</td>\n",
       "      <td>7</td>\n",
       "      <td>1</td>\n",
       "      <td>Fr</td>\n",
       "      <td>7.7</td>\n",
       "      <td>16.7</td>\n",
       "      <td>0.0</td>\n",
       "      <td>4.0</td>\n",
       "      <td>NaN</td>\n",
       "      <td>NW</td>\n",
       "      <td>...</td>\n",
       "      <td>1015.7</td>\n",
       "      <td>16.4</td>\n",
       "      <td>33</td>\n",
       "      <td>1</td>\n",
       "      <td>WSW</td>\n",
       "      <td>20</td>\n",
       "      <td>1016.2</td>\n",
       "      <td>9.0</td>\n",
       "      <td>High</td>\n",
       "      <td>Med</td>\n",
       "    </tr>\n",
       "    <tr>\n",
       "      <th>369</th>\n",
       "      <td>2016</td>\n",
       "      <td>8</td>\n",
       "      <td>4</td>\n",
       "      <td>Th</td>\n",
       "      <td>10.8</td>\n",
       "      <td>18.1</td>\n",
       "      <td>61.0</td>\n",
       "      <td>9.4</td>\n",
       "      <td>NaN</td>\n",
       "      <td>SE</td>\n",
       "      <td>...</td>\n",
       "      <td>1024.3</td>\n",
       "      <td>15.5</td>\n",
       "      <td>60</td>\n",
       "      <td>7</td>\n",
       "      <td>SSW</td>\n",
       "      <td>19</td>\n",
       "      <td>1025.1</td>\n",
       "      <td>7.3</td>\n",
       "      <td>Low</td>\n",
       "      <td>Low</td>\n",
       "    </tr>\n",
       "  </tbody>\n",
       "</table>\n",
       "<p>7 rows × 27 columns</p>\n",
       "</div>"
      ],
      "text/plain": [
       "     Year  Month  Date Day  Temps_min  Temps_max  Rain  Evap  Sun_hours  \\\n",
       "116  2015     11    25  We       17.3       32.7   0.0   9.0        NaN   \n",
       "126  2015     12     5  Sa       15.5       24.9   0.0   8.0        NaN   \n",
       "141  2015     12    20  Su       19.9       30.3   0.0  13.0        NaN   \n",
       "166  2016      1    14  Th       22.7       39.2   0.0   8.4        NaN   \n",
       "334  2016      6    30  Th        5.4       16.5   0.0   1.8        NaN   \n",
       "335  2016      7     1  Fr        7.7       16.7   0.0   4.0        NaN   \n",
       "369  2016      8     4  Th       10.8       18.1  61.0   9.4        NaN   \n",
       "\n",
       "    Max_wind_dir        ...          MSLP_at_9am Temp_at_3pm  RH_at_3pm  \\\n",
       "116          NNE        ...               1013.1        28.7         44   \n",
       "126           NE        ...               1022.6        24.1         52   \n",
       "141           NE        ...               1013.4        28.5         52   \n",
       "166            S        ...               1011.7        32.4         43   \n",
       "334           NW        ...               1021.2        14.5         33   \n",
       "335           NW        ...               1015.7        16.4         33   \n",
       "369           SE        ...               1024.3        15.5         60   \n",
       "\n",
       "     CLD_at_3pm  Wind_dir_at_3pm Wind_spd_at_3pm  MSLP_at_3pm  Temps_diff  \\\n",
       "116           0              NNE              24       1007.4        15.4   \n",
       "126           1               NE              20       1018.9         9.4   \n",
       "141           1              NNE              31       1008.7        10.4   \n",
       "166           7              ENE              15       1008.1        16.5   \n",
       "334           7              NNW              24       1015.1        11.1   \n",
       "335           1              WSW              20       1016.2         9.0   \n",
       "369           7              SSW              19       1025.1         7.3   \n",
       "\n",
       "     Sun_level_pred_knn  Sun_level_pred_nb  \n",
       "116                High               High  \n",
       "126                High               High  \n",
       "141                High               High  \n",
       "166                 Med                Med  \n",
       "334                 Med                Med  \n",
       "335                High                Med  \n",
       "369                 Low                Low  \n",
       "\n",
       "[7 rows x 27 columns]"
      ]
     },
     "execution_count": 22,
     "metadata": {},
     "output_type": "execute_result"
    }
   ],
   "source": [
    "data_missing_sun_hours['Sun_level_pred_nb'] = gnb.predict(test_data)\n",
    "data_missing_sun_hours"
   ]
  },
  {
   "cell_type": "code",
   "execution_count": null,
   "metadata": {
    "collapsed": true
   },
   "outputs": [],
   "source": []
  },
  {
   "cell_type": "code",
   "execution_count": null,
   "metadata": {
    "collapsed": true
   },
   "outputs": [],
   "source": []
  }
 ],
 "metadata": {
  "kernelspec": {
   "display_name": "Python 3",
   "language": "python",
   "name": "python3"
  },
  "language_info": {
   "codemirror_mode": {
    "name": "ipython",
    "version": 3
   },
   "file_extension": ".py",
   "mimetype": "text/x-python",
   "name": "python",
   "nbconvert_exporter": "python",
   "pygments_lexer": "ipython3",
   "version": "3.5.2"
  }
 },
 "nbformat": 4,
 "nbformat_minor": 0
}

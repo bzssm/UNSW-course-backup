{
 "cells": [
  {
   "cell_type": "markdown",
   "metadata": {},
   "source": [
    "# Predict Spam SMS using Naive Bayes Classifier"
   ]
  },
  {
   "cell_type": "markdown",
   "metadata": {},
   "source": [
    "## Import Modules"
   ]
  },
  {
   "cell_type": "code",
   "execution_count": 1,
   "metadata": {
    "collapsed": true
   },
   "outputs": [],
   "source": [
    "import pandas as pd\n",
    "import numpy as np\n",
    "from sklearn.naive_bayes import MultinomialNB,BernoulliNB\n",
    "from sklearn.preprocessing import LabelEncoder\n",
    "from sklearn.feature_extraction import DictVectorizer\n",
    "from sklearn.cross_validation import KFold\n",
    "import matplotlib.pyplot as plt\n",
    "\n",
    "%matplotlib inline"
   ]
  },
  {
   "cell_type": "markdown",
   "metadata": {},
   "source": [
    "## Data Preprocessing"
   ]
  },
  {
   "cell_type": "markdown",
   "metadata": {},
   "source": [
    "We use [SMS Spam Collection Data Set](https://archive.ics.uci.edu/ml/datasets/SMS+Spam+Collection) from UCI, which contains 5574 SMS, 747 of them are spam and the rest are ham."
   ]
  },
  {
   "cell_type": "code",
   "execution_count": 2,
   "metadata": {
    "collapsed": false
   },
   "outputs": [
    {
     "data": {
      "text/html": [
       "<div>\n",
       "<table border=\"1\" class=\"dataframe\">\n",
       "  <thead>\n",
       "    <tr style=\"text-align: right;\">\n",
       "      <th></th>\n",
       "      <th>category</th>\n",
       "      <th>text</th>\n",
       "    </tr>\n",
       "  </thead>\n",
       "  <tbody>\n",
       "    <tr>\n",
       "      <th>0</th>\n",
       "      <td>ham</td>\n",
       "      <td>Go until jurong point, crazy.. Available only in bugis n great world la e buffet... Cine there got amore wat...</td>\n",
       "    </tr>\n",
       "    <tr>\n",
       "      <th>1</th>\n",
       "      <td>ham</td>\n",
       "      <td>Ok lar... Joking wif u oni...</td>\n",
       "    </tr>\n",
       "    <tr>\n",
       "      <th>2</th>\n",
       "      <td>spam</td>\n",
       "      <td>Free entry in 2 a wkly comp to win FA Cup final tkts 21st May 2005. Text FA to 87121 to receive entry question(std txt rate)T&amp;C's apply 08452810075over18's</td>\n",
       "    </tr>\n",
       "    <tr>\n",
       "      <th>3</th>\n",
       "      <td>ham</td>\n",
       "      <td>U dun say so early hor... U c already then say...</td>\n",
       "    </tr>\n",
       "    <tr>\n",
       "      <th>4</th>\n",
       "      <td>ham</td>\n",
       "      <td>Nah I don't think he goes to usf, he lives around here though</td>\n",
       "    </tr>\n",
       "  </tbody>\n",
       "</table>\n",
       "</div>"
      ],
      "text/plain": [
       "  category  \\\n",
       "0      ham   \n",
       "1      ham   \n",
       "2     spam   \n",
       "3      ham   \n",
       "4      ham   \n",
       "\n",
       "                                                                                                                                                          text  \n",
       "0                                              Go until jurong point, crazy.. Available only in bugis n great world la e buffet... Cine there got amore wat...  \n",
       "1                                                                                                                                Ok lar... Joking wif u oni...  \n",
       "2  Free entry in 2 a wkly comp to win FA Cup final tkts 21st May 2005. Text FA to 87121 to receive entry question(std txt rate)T&C's apply 08452810075over18's  \n",
       "3                                                                                                            U dun say so early hor... U c already then say...  \n",
       "4                                                                                                Nah I don't think he goes to usf, he lives around here though  "
      ]
     },
     "execution_count": 2,
     "metadata": {},
     "output_type": "execute_result"
    }
   ],
   "source": [
    "data = pd.read_csv('./asset/SMSSpamCollection.txt', sep='\\t')\n",
    "pd.set_option(\"display.max_colwidth\",999)\n",
    "data.head()"
   ]
  },
  {
   "cell_type": "markdown",
   "metadata": {},
   "source": [
    "We use the count of each tokens (words) in the SMS as its feature. \n",
    "\n",
    "Firstly we convert the SMS into features."
   ]
  },
  {
   "cell_type": "code",
   "execution_count": 3,
   "metadata": {
    "collapsed": false
   },
   "outputs": [
    {
     "name": "stdout",
     "output_type": "stream",
     "text": [
      "{'e': 1, 'got': 1, 'bugis': 1, 'great': 1, 'world': 1, 'in': 1, 'Available': 1, 'Go': 1, 'jurong': 1, 'there': 1, 'crazy..': 1, 'buffet...': 1, 'la': 1, 'wat...': 1, 'amore': 1, 'until': 1, 'Cine': 1, 'only': 1, 'n': 1, 'point,': 1}\n"
     ]
    }
   ],
   "source": [
    "def get_freq_of_tokens(sms):\n",
    "    tokens = {}\n",
    "    for token in sms.split(' '):\n",
    "        if token not in tokens:\n",
    "            tokens[token] = 1\n",
    "        else:\n",
    "            tokens[token] += 1\n",
    "    return tokens\n",
    "\n",
    "print(get_freq_of_tokens(data.iloc[0].text))"
   ]
  },
  {
   "cell_type": "code",
   "execution_count": 4,
   "metadata": {
    "collapsed": false
   },
   "outputs": [],
   "source": [
    "features_and_labels = []\n",
    "for index in range(len(data)):\n",
    "    features_and_labels.append((get_freq_of_tokens(data.iloc[index].text), data.iloc[index].category))"
   ]
  },
  {
   "cell_type": "markdown",
   "metadata": {},
   "source": [
    "We then trainsform the features into a sparse martix."
   ]
  },
  {
   "cell_type": "code",
   "execution_count": 5,
   "metadata": {
    "collapsed": false
   },
   "outputs": [
    {
     "data": {
      "text/plain": [
       "<5572x15693 sparse matrix of type '<class 'numpy.float64'>'\n",
       "\twith 81504 stored elements in Compressed Sparse Row format>"
      ]
     },
     "execution_count": 5,
     "metadata": {},
     "output_type": "execute_result"
    }
   ],
   "source": [
    "encoder = LabelEncoder()\n",
    "vectorizer = DictVectorizer(dtype=float, sparse=True)\n",
    "X, y = list(zip(*features_and_labels))\n",
    "X = vectorizer.fit_transform(X)\n",
    "    # print(X)\n",
    "    # print(vectorizer.feature_names_)\n",
    "y = encoder.fit_transform(y)\n",
    "\n",
    "X"
   ]
  },
  {
   "cell_type": "markdown",
   "metadata": {},
   "source": [
    "Use the first SMS (i.e., X[0]) to show how to get the feature names and values. "
   ]
  },
  {
   "cell_type": "code",
   "execution_count": 6,
   "metadata": {
    "collapsed": false,
    "scrolled": true
   },
   "outputs": [
    {
     "name": "stdout",
     "output_type": "stream",
     "text": [
      "Available:1.0\n",
      "Cine:1.0\n",
      "Go:1.0\n",
      "amore:1.0\n",
      "buffet...:1.0\n",
      "bugis:1.0\n",
      "crazy..:1.0\n",
      "e:1.0\n",
      "got:1.0\n",
      "great:1.0\n",
      "in:1.0\n",
      "jurong:1.0\n",
      "la:1.0\n",
      "n:1.0\n",
      "only:1.0\n",
      "point,:1.0\n",
      "there:1.0\n",
      "until:1.0\n",
      "wat...:1.0\n",
      "world:1.0\n"
     ]
    }
   ],
   "source": [
    "arr = X[0].toarray()\n",
    "for i in range(len(arr[0])):\n",
    "    if arr[0][i] > 0:\n",
    "        print('{}:{}'.format(vectorizer.feature_names_[i], arr[0][i]))"
   ]
  },
  {
   "cell_type": "markdown",
   "metadata": {},
   "source": [
    "## Build Multinomial Naive Bayes Classifier"
   ]
  },
  {
   "cell_type": "markdown",
   "metadata": {},
   "source": [
    "`alpha` is the additive (Laplace/Lidstone) smoothing parameter. Its default value is 1.0 -- we will see that this works pretty well for our problem later. "
   ]
  },
  {
   "cell_type": "code",
   "execution_count": 7,
   "metadata": {
    "collapsed": false
   },
   "outputs": [
    {
     "data": {
      "text/plain": [
       "0.99246231155778897"
      ]
     },
     "execution_count": 7,
     "metadata": {},
     "output_type": "execute_result"
    }
   ],
   "source": [
    "nb = MultinomialNB(alpha=1)\n",
    "nb.fit(X, y)\n",
    "nb.score(X, y)"
   ]
  },
  {
   "cell_type": "markdown",
   "metadata": {},
   "source": [
    "Let's use cross validation to explore how alpha affects the performance of the classifier"
   ]
  },
  {
   "cell_type": "code",
   "execution_count": 8,
   "metadata": {
    "collapsed": false
   },
   "outputs": [],
   "source": [
    "n_folds = 10\n",
    "kf = KFold(n=X.shape[0], n_folds=n_folds, shuffle=True, random_state=42)"
   ]
  },
  {
   "cell_type": "code",
   "execution_count": 9,
   "metadata": {
    "collapsed": false
   },
   "outputs": [],
   "source": [
    "def test_Multinomial_NB(train_X, train_y, test_X, test_y, alpha=1, debug = False):\n",
    "    nb = MultinomialNB(alpha=alpha)\n",
    "    nb.fit(train_X, train_y)\n",
    "    train_error = nb.score(train_X, train_y)\n",
    "    test_error = nb.score(test_X, test_y)\n",
    "    if debug:\n",
    "        print('training error:\\t{}'.format(train_error))\n",
    "        print('testing error:\\t{}'.format(test_error))\n",
    "    return train_error, test_error"
   ]
  },
  {
   "cell_type": "code",
   "execution_count": 10,
   "metadata": {
    "collapsed": false
   },
   "outputs": [],
   "source": [
    "def cv_MultinomialNB(alpha = 1.0):\n",
    "    train_error_total = 0\n",
    "    test_error_total = 0\n",
    "    for train, test in kf:\n",
    "        train_X = X[train]\n",
    "        test_X = X[test]\n",
    "        train_y = y[train]\n",
    "        test_y = y[test]\n",
    "        train_error, test_error = test_Multinomial_NB(train_X, train_y, test_X, test_y, alpha)\n",
    "        train_error_total += train_error\n",
    "        test_error_total += test_error\n",
    "    return train_error_total/n_folds, test_error_total/n_folds\n",
    "#     print('===================')\n",
    "#     print('avg. training error:\\t{}'.format(train_error_total/n_folds))\n",
    "#     print('avg. testing error:\\t{}'.format(test_error_total/n_folds))"
   ]
  },
  {
   "cell_type": "code",
   "execution_count": 11,
   "metadata": {
    "collapsed": false
   },
   "outputs": [],
   "source": [
    "def cv_plot_MultinomialNB():\n",
    "    cv_res = []\n",
    "    rng = sorted([0.5] + list(range(0, 10)))\n",
    "    for i in rng:\n",
    "        train_error, test_error = cv_MultinomialNB(i)\n",
    "        cv_res.append([i, train_error, test_error])\n",
    "    cv_res_arr = np.array(cv_res)\n",
    "    plt.figure(figsize=(16,9)) \n",
    "    plt.title('Error vs. alpha') \n",
    "    plot_train, = plt.plot(cv_res_arr[:,0], cv_res_arr[:,1], label='training')\n",
    "    plot_test, = plt.plot(cv_res_arr[:,0], cv_res_arr[:,2], label='testing')\n",
    "    plt.legend(handles=[plot_train, plot_test])\n",
    "    plt.ylim((min(min(cv_res_arr[:,1]), min(cv_res_arr[:,2])) - 0.01, max(max(cv_res_arr[:,1]), max(cv_res_arr[:,2]))+0.01))\n",
    "    plt.xticks(rng)    "
   ]
  },
  {
   "cell_type": "code",
   "execution_count": 12,
   "metadata": {
    "collapsed": false
   },
   "outputs": [
    {
     "data": {
      "image/png": "[encoded data removed]",
      "text/plain": [
       "<matplotlib.figure.Figure at 0x1a23786b470>"
      ]
     },
     "metadata": {},
     "output_type": "display_data"
    }
   ],
   "source": [
    "cv_plot_MultinomialNB()"
   ]
  },
  {
   "cell_type": "markdown",
   "metadata": {},
   "source": [
    "## Bernoulli Naive Bayes Classifier"
   ]
  },
  {
   "cell_type": "markdown",
   "metadata": {},
   "source": [
    "Note that since we have the count matrix for words in the vocabulary, we can binarize it to be used in a Bernoulli NB classifier. "
   ]
  },
  {
   "cell_type": "code",
   "execution_count": 13,
   "metadata": {
    "collapsed": false
   },
   "outputs": [
    {
     "data": {
      "text/plain": [
       "0.98438621679827709"
      ]
     },
     "execution_count": 13,
     "metadata": {},
     "output_type": "execute_result"
    }
   ],
   "source": [
    "nb = BernoulliNB(alpha=1, binarize=0.0) # every value >0.0 will be binarized to 1\n",
    "nb.fit(X, y)\n",
    "nb.score(X, y)"
   ]
  },
  {
   "cell_type": "code",
   "execution_count": 14,
   "metadata": {
    "collapsed": true
   },
   "outputs": [],
   "source": [
    "def test_Bernoulli_NB(train_X, train_y, test_X, test_y, alpha=1, debug = False):\n",
    "    nb = BernoulliNB(alpha=alpha)\n",
    "    nb.fit(train_X, train_y)\n",
    "    train_error = nb.score(train_X, train_y)\n",
    "    test_error = nb.score(test_X, test_y)\n",
    "    if debug:\n",
    "        print('training error:\\t{}'.format(train_error))\n",
    "        print('testing error:\\t{}'.format(test_error))\n",
    "    return train_error, test_error"
   ]
  },
  {
   "cell_type": "code",
   "execution_count": 15,
   "metadata": {
    "collapsed": true
   },
   "outputs": [],
   "source": [
    "def cv_BernoulliNB(alpha = 1.0):\n",
    "    train_error_total = 0\n",
    "    test_error_total = 0\n",
    "    for train, test in kf:\n",
    "        train_X = X[train]\n",
    "        test_X = X[test]\n",
    "        train_y = y[train]\n",
    "        test_y = y[test]\n",
    "        train_error, test_error = test_Bernoulli_NB(train_X, train_y, test_X, test_y, alpha)\n",
    "        train_error_total += train_error\n",
    "        test_error_total += test_error\n",
    "    return train_error_total/n_folds, test_error_total/n_folds\n",
    "#     print('===================')\n",
    "#     print('avg. training error:\\t{}'.format(train_error_total/n_folds))\n",
    "#     print('avg. testing error:\\t{}'.format(test_error_total/n_folds))"
   ]
  },
  {
   "cell_type": "code",
   "execution_count": 16,
   "metadata": {
    "collapsed": true
   },
   "outputs": [],
   "source": [
    "def cv_plot_BernoulliNB():\n",
    "    cv_res = []\n",
    "    rng = sorted([0.5] + list(range(0, 10)))\n",
    "    for i in rng:\n",
    "        train_error, test_error = cv_BernoulliNB(i)\n",
    "        cv_res.append([i, train_error, test_error])\n",
    "    cv_res_arr = np.array(cv_res)\n",
    "    plt.figure(figsize=(16,9)) \n",
    "    plt.title('Error vs. alpha')\n",
    "    plot_train, = plt.plot(cv_res_arr[:,0], cv_res_arr[:,1], label='training')\n",
    "    plot_test, = plt.plot(cv_res_arr[:,0], cv_res_arr[:,2], label='testing')\n",
    "    plt.legend(handles=[plot_train, plot_test])\n",
    "    plt.ylim((min(min(cv_res_arr[:,1]), min(cv_res_arr[:,2])) - 0.01, max(max(cv_res_arr[:,1]), max(cv_res_arr[:,2]))+0.01))\n",
    "    plt.xticks(rng)"
   ]
  },
  {
   "cell_type": "code",
   "execution_count": 17,
   "metadata": {
    "collapsed": false
   },
   "outputs": [
    {
     "data": {
      "image/png": "[encoded data removed]",
      "text/plain": [
       "<matplotlib.figure.Figure at 0x1a23797c358>"
      ]
     },
     "metadata": {},
     "output_type": "display_data"
    }
   ],
   "source": [
    "cv_plot_BernoulliNB()"
   ]
  },
  {
   "cell_type": "code",
   "execution_count": null,
   "metadata": {
    "collapsed": true
   },
   "outputs": [],
   "source": []
  }
 ],
 "metadata": {
  "kernelspec": {
   "display_name": "Python 3",
   "language": "python",
   "name": "python3"
  },
  "language_info": {
   "codemirror_mode": {
    "name": "ipython",
    "version": 3
   },
   "file_extension": ".py",
   "mimetype": "text/x-python",
   "name": "python",
   "nbconvert_exporter": "python",
   "pygments_lexer": "ipython3",
   "version": "3.5.2"
  }
 },
 "nbformat": 4,
 "nbformat_minor": 0
}

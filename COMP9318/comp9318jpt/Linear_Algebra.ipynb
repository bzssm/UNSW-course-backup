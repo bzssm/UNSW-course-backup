{
 "cells": [
  {
   "cell_type": "markdown",
   "metadata": {},
   "source": [
    "# Linear Algebra via Examples\n",
    "\n",
    "We demonstrate a few important LA concepts via examples. \n"
   ]
  },
  {
   "cell_type": "markdown",
   "metadata": {},
   "source": [
    "## Eigenvalues and Eigenvectors\n",
    "\n"
   ]
  },
  {
   "cell_type": "code",
   "execution_count": 96,
   "metadata": {
    "collapsed": true
   },
   "outputs": [],
   "source": [
    "import numpy as np\n",
    "import matplotlib.pyplot as plt\n",
    "%matplotlib inline\n"
   ]
  },
  {
   "cell_type": "code",
   "execution_count": 97,
   "metadata": {
    "collapsed": true
   },
   "outputs": [],
   "source": [
    "M = np.mat(\"3 -2; 1 0\")\n",
    "w, V = np.linalg.eig(M)"
   ]
  },
  {
   "cell_type": "code",
   "execution_count": 98,
   "metadata": {},
   "outputs": [
    {
     "data": {
      "text/plain": [
       "array([ 2.,  1.])"
      ]
     },
     "execution_count": 98,
     "metadata": {},
     "output_type": "execute_result"
    }
   ],
   "source": [
    "w"
   ]
  },
  {
   "cell_type": "code",
   "execution_count": 99,
   "metadata": {},
   "outputs": [
    {
     "data": {
      "text/plain": [
       "matrix([[ 0.89442719,  0.70710678],\n",
       "        [ 0.4472136 ,  0.70710678]])"
      ]
     },
     "execution_count": 99,
     "metadata": {},
     "output_type": "execute_result"
    }
   ],
   "source": [
    "V"
   ]
  },
  {
   "cell_type": "markdown",
   "metadata": {},
   "source": [
    "Verify the property that $$\\mathbf{M} \\mathbf{v} = \\lambda \\mathbf{v} $$"
   ]
  },
  {
   "cell_type": "code",
   "execution_count": 100,
   "metadata": {},
   "outputs": [
    {
     "data": {
      "text/plain": [
       "matrix([[ 0.89442719],\n",
       "        [ 0.4472136 ]])"
      ]
     },
     "execution_count": 100,
     "metadata": {},
     "output_type": "execute_result"
    }
   ],
   "source": [
    "V[:, 0]"
   ]
  },
  {
   "cell_type": "code",
   "execution_count": 101,
   "metadata": {},
   "outputs": [
    {
     "data": {
      "text/plain": [
       "matrix([[ 2.68328157],\n",
       "        [ 1.34164079]])"
      ]
     },
     "execution_count": 101,
     "metadata": {},
     "output_type": "execute_result"
    }
   ],
   "source": [
    "3 * V[:, 0]"
   ]
  },
  {
   "cell_type": "code",
   "execution_count": 102,
   "metadata": {},
   "outputs": [
    {
     "name": "stdout",
     "output_type": "stream",
     "text": [
      "i = 1\n",
      "Left  =  [[ 1.78885438  0.89442719]]\n",
      "Right =  [[ 1.78885438  0.89442719]]\n",
      "i = 2\n",
      "Left  =  [[ 0.70710678  0.70710678]]\n",
      "Right =  [[ 0.70710678  0.70710678]]\n"
     ]
    }
   ],
   "source": [
    "for i in range(2):\n",
    "    print('i = {}'.format(i+1))\n",
    "    print('Left  = ', (M @ V[:, i]).reshape(1,2))\n",
    "    print('Right = ', (w[i] * V[:, i]).reshape(1,2))"
   ]
  },
  {
   "cell_type": "code",
   "execution_count": null,
   "metadata": {
    "collapsed": true
   },
   "outputs": [],
   "source": []
  },
  {
   "cell_type": "code",
   "execution_count": null,
   "metadata": {
    "collapsed": true
   },
   "outputs": [],
   "source": []
  },
  {
   "cell_type": "markdown",
   "metadata": {},
   "source": [
    "## Impact to basis vectors\n",
    "\n"
   ]
  },
  {
   "cell_type": "code",
   "execution_count": 103,
   "metadata": {},
   "outputs": [
    {
     "data": {
      "text/plain": [
       "matrix([[ 3, -2],\n",
       "        [ 1,  0]])"
      ]
     },
     "execution_count": 103,
     "metadata": {},
     "output_type": "execute_result"
    }
   ],
   "source": [
    "U = np.mat(\"1 0; 0 1\")\n",
    "V = M @ U\n",
    "V"
   ]
  },
  {
   "cell_type": "code",
   "execution_count": 104,
   "metadata": {},
   "outputs": [
    {
     "data": {
      "text/plain": [
       "array([[-1, -1, -1,  0,  0,  0,  1,  1,  1],\n",
       "       [-1,  0,  1, -1,  0,  1, -1,  0,  1]])"
      ]
     },
     "execution_count": 104,
     "metadata": {},
     "output_type": "execute_result"
    }
   ],
   "source": [
    "U2 = np.hstack([np.array([i-1, j-1]).reshape(2,1) for i in range(3) for j in range(3)])\n",
    "U2"
   ]
  },
  {
   "cell_type": "code",
   "execution_count": 105,
   "metadata": {},
   "outputs": [
    {
     "data": {
      "text/plain": [
       "matrix([[-1, -3, -5,  2,  0, -2,  5,  3,  1],\n",
       "        [-1, -1, -1,  0,  0,  0,  1,  1,  1]])"
      ]
     },
     "execution_count": 105,
     "metadata": {},
     "output_type": "execute_result"
    }
   ],
   "source": [
    "V2 = M @ U2\n",
    "V2"
   ]
  },
  {
   "cell_type": "code",
   "execution_count": 106,
   "metadata": {},
   "outputs": [
    {
     "data": {
      "image/png": "[encoded data removed]",
      "text/plain": [
       "<matplotlib.figure.Figure at 0x151a55d6d8>"
      ]
     },
     "metadata": {},
     "output_type": "display_data"
    }
   ],
   "source": [
    "plt.plot(U2[0,:], U2[1,:], 'bx')\n",
    "plt.title('original space')\n",
    "plt.draw()\n",
    "plt.show()"
   ]
  },
  {
   "cell_type": "code",
   "execution_count": 107,
   "metadata": {},
   "outputs": [
    {
     "data": {
      "image/png": "[encoded data removed]",
      "text/plain": [
       "<matplotlib.figure.Figure at 0x151ad11860>"
      ]
     },
     "metadata": {},
     "output_type": "display_data"
    }
   ],
   "source": [
    "plt.plot(V2[0,:], V2[1,:], 'r+')\n",
    "plt.title('new space')\n",
    "plt.draw()\n",
    "plt.show()"
   ]
  },
  {
   "cell_type": "code",
   "execution_count": 108,
   "metadata": {},
   "outputs": [
    {
     "data": {
      "image/png": "[encoded data removed]",
      "text/plain": [
       "<matplotlib.figure.Figure at 0x151ad342e8>"
      ]
     },
     "metadata": {},
     "output_type": "display_data"
    }
   ],
   "source": [
    "plt.plot(U2[0,:], U2[1,:], 'bx')\n",
    "plt.plot(V2[0,:], V2[1,:], 'r+')\n",
    "plt.title('plot together')\n",
    "plt.draw()\n",
    "plt.show()"
   ]
  },
  {
   "cell_type": "markdown",
   "metadata": {},
   "source": [
    "With some more efforts, one can draw the original coordinate systems and the transformed one in a more visual way. This will hopefully strengthen the idea that a matrix multiplication represents a **linear transformation**."
   ]
  },
  {
   "cell_type": "markdown",
   "metadata": {},
   "source": [
    "## SVD"
   ]
  },
  {
   "cell_type": "code",
   "execution_count": 109,
   "metadata": {},
   "outputs": [],
   "source": [
    "from scipy import linalg"
   ]
  },
  {
   "cell_type": "code",
   "execution_count": 110,
   "metadata": {},
   "outputs": [
    {
     "data": {
      "text/plain": [
       "array([[ 5,  3],\n",
       "       [ 0, -1],\n",
       "       [12,  1],\n",
       "       [ 4,  2]])"
      ]
     },
     "execution_count": 110,
     "metadata": {},
     "output_type": "execute_result"
    }
   ],
   "source": [
    "A = np.array([ [5, 3], [0, -1], [12, 1], [4, 2] ])\n",
    "A"
   ]
  },
  {
   "cell_type": "markdown",
   "metadata": {},
   "source": [
    "We only do a reduced SVD: $$\\mathbf{A} = \\mathbf{U} \\mathbf{S} \\mathbf{V}^{\\top}, $$ \n",
    "so that $\\mathbf{U}$ is of the **same** shape as $\\mathbf{A}$. "
   ]
  },
  {
   "cell_type": "code",
   "execution_count": 111,
   "metadata": {},
   "outputs": [],
   "source": [
    "U, s, Vt = linalg.svd(A, full_matrices=False)\n",
    "S = np.diag(s)\n",
    "V = Vt.T"
   ]
  },
  {
   "cell_type": "code",
   "execution_count": 112,
   "metadata": {},
   "outputs": [
    {
     "data": {
      "text/plain": [
       "array([[-0.39607852,  0.69414082],\n",
       "       [ 0.01400816, -0.34519358],\n",
       "       [-0.86373785, -0.47426224],\n",
       "       [-0.31125955,  0.41723523]])"
      ]
     },
     "execution_count": 112,
     "metadata": {},
     "output_type": "execute_result"
    }
   ],
   "source": [
    "U"
   ]
  },
  {
   "cell_type": "code",
   "execution_count": 113,
   "metadata": {
    "scrolled": true
   },
   "outputs": [
    {
     "data": {
      "text/plain": [
       "array([ 13.8536595 ,   2.84185124])"
      ]
     },
     "execution_count": 113,
     "metadata": {},
     "output_type": "execute_result"
    }
   ],
   "source": [
    "s"
   ]
  },
  {
   "cell_type": "code",
   "execution_count": 114,
   "metadata": {},
   "outputs": [
    {
     "data": {
      "text/plain": [
       "array([[ 13.8536595 ,   0.        ],\n",
       "       [  0.        ,   2.84185124]])"
      ]
     },
     "execution_count": 114,
     "metadata": {},
     "output_type": "execute_result"
    }
   ],
   "source": [
    "S"
   ]
  },
  {
   "cell_type": "code",
   "execution_count": 115,
   "metadata": {
    "scrolled": true
   },
   "outputs": [
    {
     "data": {
      "text/plain": [
       "array([[-0.98098881, -0.1940643 ],\n",
       "       [-0.1940643 ,  0.98098881]])"
      ]
     },
     "execution_count": 115,
     "metadata": {},
     "output_type": "execute_result"
    }
   ],
   "source": [
    "Vt"
   ]
  },
  {
   "cell_type": "code",
   "execution_count": 116,
   "metadata": {},
   "outputs": [
    {
     "data": {
      "text/plain": [
       "array([[-0.98098881, -0.1940643 ],\n",
       "       [-0.1940643 ,  0.98098881]])"
      ]
     },
     "execution_count": 116,
     "metadata": {},
     "output_type": "execute_result"
    }
   ],
   "source": [
    "V"
   ]
  },
  {
   "cell_type": "markdown",
   "metadata": {},
   "source": [
    "We demonstrate a few useful properties of SVD: \n",
    "\n",
    "* (1) Exact Recovery"
   ]
  },
  {
   "cell_type": "code",
   "execution_count": 117,
   "metadata": {},
   "outputs": [
    {
     "name": "stdout",
     "output_type": "stream",
     "text": [
      "(4, 2) (2, 2) (2, 2)\n"
     ]
    }
   ],
   "source": [
    "print(U.shape, S.shape, Vt.shape)"
   ]
  },
  {
   "cell_type": "code",
   "execution_count": 118,
   "metadata": {},
   "outputs": [
    {
     "data": {
      "text/plain": [
       "array([[  5.,   3.],\n",
       "       [  0.,  -1.],\n",
       "       [ 12.,   1.],\n",
       "       [  4.,   2.]])"
      ]
     },
     "execution_count": 118,
     "metadata": {},
     "output_type": "execute_result"
    }
   ],
   "source": [
    "reconA = np.round(U @ S @ Vt, 5)\n",
    "reconA"
   ]
  },
  {
   "cell_type": "markdown",
   "metadata": {},
   "source": [
    "* (2) Approximation\n",
    "\n",
    "Another view of SVD is to decompose the original matrix into a sum of rank-1 matrices of decreasing \"importance\", i.e., \n",
    "$$\n",
    "    \\mathbf{A} = \\sum_{i} {\\sigma_i} \\left( \\mathbf{U}_i \\otimes \\mathbf{V}_i \\right), \n",
    "$$\n",
    "where $\\otimes$ is the vector outer product, i.e., \n",
    "$$\n",
    "\\mathbf{u} \\otimes \\mathbf{v} = \\mathbf{u} \\otimes \\mathbf{v}^{\\top}\n",
    "$$\n",
    "\n",
    "In the following, we will approximate $\\mathbf{A}$ by only one summand. "
   ]
  },
  {
   "cell_type": "code",
   "execution_count": 121,
   "metadata": {},
   "outputs": [
    {
     "data": {
      "text/plain": [
       "array([-0.39607852,  0.01400816, -0.86373785, -0.31125955])"
      ]
     },
     "execution_count": 121,
     "metadata": {},
     "output_type": "execute_result"
    }
   ],
   "source": [
    "U1 = U[:, 0]\n",
    "U1"
   ]
  },
  {
   "cell_type": "code",
   "execution_count": 127,
   "metadata": {},
   "outputs": [
    {
     "data": {
      "text/plain": [
       "13.853659500444321"
      ]
     },
     "execution_count": 127,
     "metadata": {},
     "output_type": "execute_result"
    }
   ],
   "source": [
    "s1 = s[0]\n",
    "s1"
   ]
  },
  {
   "cell_type": "code",
   "execution_count": 125,
   "metadata": {},
   "outputs": [
    {
     "data": {
      "text/plain": [
       "array([-0.98098881, -0.1940643 ])"
      ]
     },
     "execution_count": 125,
     "metadata": {},
     "output_type": "execute_result"
    }
   ],
   "source": [
    "Vt1 = Vt[0, :]\n",
    "Vt1"
   ]
  },
  {
   "cell_type": "code",
   "execution_count": 129,
   "metadata": {},
   "outputs": [
    {
     "data": {
      "text/plain": [
       "array([[  5.38282,   1.06486],\n",
       "       [ -0.19037,  -0.03766],\n",
       "       [ 11.73844,   2.32216],\n",
       "       [  4.23011,   0.83682]])"
      ]
     },
     "execution_count": 129,
     "metadata": {},
     "output_type": "execute_result"
    }
   ],
   "source": [
    "reconA1 = np.round(s1 * np.outer(U1, Vt1), 5)\n",
    "reconA1"
   ]
  },
  {
   "cell_type": "code",
   "execution_count": 130,
   "metadata": {},
   "outputs": [
    {
     "data": {
      "text/plain": [
       "array([[ 5,  3],\n",
       "       [ 0, -1],\n",
       "       [12,  1],\n",
       "       [ 4,  2]])"
      ]
     },
     "execution_count": 130,
     "metadata": {},
     "output_type": "execute_result"
    }
   ],
   "source": [
    "A"
   ]
  },
  {
   "cell_type": "markdown",
   "metadata": {},
   "source": [
    "* (3) Feature reduction\n",
    "\n",
    "We manually creat a matrix $\\mathbf{A}$ such that all but its last column is heavily correlated. "
   ]
  },
  {
   "cell_type": "code",
   "execution_count": 159,
   "metadata": {},
   "outputs": [
    {
     "name": "stdout",
     "output_type": "stream",
     "text": [
      "[ 0.45990338  0.96384231  0.48995298  0.05508264  0.06889611  0.49147112\n",
      "  0.04126475  0.85105499]\n",
      "[ 0.30916353  0.86528242  0.46032828  0.48086873  0.83216986  0.59160002\n",
      "  0.28097732  0.89340609]\n",
      "\n",
      "[[ 0.44777444  0.46136587  0.45736377  0.43501112  0.30916353]\n",
      " [ 0.95876347  0.96037656  0.96619143  0.95710081  0.86528242]\n",
      " [ 0.49118062  0.48100437  0.51165972  0.49153326  0.46032828]\n",
      " [ 0.05763428  0.04672335  0.04842411  0.06212327  0.48086873]\n",
      " [ 0.06610218  0.07657449  0.0596183   0.05856341  0.83216986]\n",
      " [ 0.47279545  0.48355236  0.50616279  0.48448376  0.59160002]\n",
      " [ 0.03870542  0.0394704   0.04529884  0.04100914  0.28097732]\n",
      " [ 0.84777085  0.84486164  0.8449768   0.86221843  0.89340609]]\n"
     ]
    }
   ],
   "source": [
    "a = np.random.rand(8)\n",
    "b = np.random.rand(8)\n",
    "sigma = 0.01\n",
    "At = np.array( [a + sigma*np.random.randn(8) for _ in range(4)])\n",
    "At = np.vstack((At, b))\n",
    "A = At.T\n",
    "print(a)\n",
    "print(b)\n",
    "print()\n",
    "print(A)\n"
   ]
  },
  {
   "cell_type": "code",
   "execution_count": 172,
   "metadata": {},
   "outputs": [],
   "source": [
    "def approximate_one(A):\n",
    "    U, s, Vt = linalg.svd(A, full_matrices=False)\n",
    "    print('singular values are: \\n', s) \n",
    "    S = np.diag(s)\n",
    "    V = Vt.T\n",
    "    # only 1 summand\n",
    "    U1 = U[:, 0]\n",
    "    s1 = s[0]\n",
    "    Vt1 = Vt[0, :]\n",
    "    A1 = s1 * np.outer(U1, Vt1)\n",
    "    return A1"
   ]
  },
  {
   "cell_type": "code",
   "execution_count": 173,
   "metadata": {},
   "outputs": [
    {
     "name": "stdout",
     "output_type": "stream",
     "text": [
      "singular values are: \n",
      " [ 3.44554418  0.82844891  0.03062468  0.02714454  0.01036905]\n"
     ]
    },
    {
     "data": {
      "text/plain": [
       "array([[ 0.41124606,  0.41233158,  0.41714834,  0.41314695,  0.44603497],\n",
       "       [ 0.91990736,  0.92233552,  0.93311004,  0.92415941,  0.99772591],\n",
       "       [ 0.47617328,  0.47743017,  0.48300741,  0.47837428,  0.51645464],\n",
       "       [ 0.14129983,  0.14167281,  0.1433278 ,  0.14195296,  0.15325294],\n",
       "       [ 0.22314108,  0.22373007,  0.22634364,  0.22417249,  0.24201745],\n",
       "       [ 0.49799175,  0.49930623,  0.50513902,  0.5002936 ,  0.54011882],\n",
       "       [ 0.09007498,  0.09031274,  0.09136776,  0.09049133,  0.09769478],\n",
       "       [ 0.840482  ,  0.84270051,  0.85254476,  0.84436693,  0.91158166]])"
      ]
     },
     "execution_count": 173,
     "metadata": {},
     "output_type": "execute_result"
    }
   ],
   "source": [
    "A1 = approximate_one(A)\n",
    "A1"
   ]
  },
  {
   "cell_type": "code",
   "execution_count": 174,
   "metadata": {},
   "outputs": [
    {
     "name": "stdout",
     "output_type": "stream",
     "text": [
      "[[-0.03652838 -0.0490343  -0.04021542 -0.02186417  0.13687144]\n",
      " [-0.03885611 -0.03804104 -0.03308139 -0.03294139  0.13244349]\n",
      " [-0.01500734 -0.00357419 -0.02865231 -0.01315898  0.05612636]\n",
      " [ 0.08366556  0.09494946  0.09490369  0.07982969 -0.32761579]\n",
      " [ 0.15703889  0.14715559  0.16672534  0.16560909 -0.5901524 ]\n",
      " [ 0.0251963   0.01575387 -0.00102377  0.01580984 -0.05148121]\n",
      " [ 0.05136956  0.05084235  0.04606891  0.0494822  -0.18328254]\n",
      " [-0.00728885 -0.00216112  0.00756796 -0.01785149  0.01817556]]\n"
     ]
    }
   ],
   "source": [
    "print(A1 - A)"
   ]
  },
  {
   "cell_type": "code",
   "execution_count": 175,
   "metadata": {},
   "outputs": [
    {
     "data": {
      "text/plain": [
       "[0.21958962603481635,\n",
       " 0.21589060023747919,\n",
       " 0.21229301357777805,\n",
       " 0.2249147927967553,\n",
       " -0.80891509158094188]"
      ]
     },
     "execution_count": 175,
     "metadata": {},
     "output_type": "execute_result"
    }
   ],
   "source": [
    "[ np.sum( (A1-A)[:, i] ) for i in range(A.shape[1]) ]"
   ]
  },
  {
   "cell_type": "markdown",
   "metadata": {},
   "source": [
    "As we can see and expect, the error is pretty small except in the last column. "
   ]
  },
  {
   "cell_type": "code",
   "execution_count": null,
   "metadata": {
    "collapsed": true
   },
   "outputs": [],
   "source": []
  },
  {
   "cell_type": "markdown",
   "metadata": {},
   "source": [
    "Notice that scipy has two version of SVD: `scipy.linalg.svd` and `scipy.sparse.linalg.svds`. See http://fa.bianp.net/blog/2012/singular-value-decomposition-in-scipy/ for a detailed discussion of the differences. "
   ]
  },
  {
   "cell_type": "code",
   "execution_count": null,
   "metadata": {
    "collapsed": true
   },
   "outputs": [],
   "source": []
  }
 ],
 "metadata": {
  "kernelspec": {
   "display_name": "Python 3",
   "language": "python",
   "name": "python3"
  },
  "language_info": {
   "codemirror_mode": {
    "name": "ipython",
    "version": 3
   },
   "file_extension": ".py",
   "mimetype": "text/x-python",
   "name": "python",
   "nbconvert_exporter": "python",
   "pygments_lexer": "ipython3",
   "version": "3.6.3"
  }
 },
 "nbformat": 4,
 "nbformat_minor": 2
}
